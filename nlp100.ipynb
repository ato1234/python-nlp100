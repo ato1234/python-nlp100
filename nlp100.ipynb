{
 "cells": [
  {
   "cell_type": "markdown",
   "metadata": {},
   "source": [
    "# 第1章: 準備運動\n",
    "\n",
    "## 00. 文字列の逆順\n",
    "> 文字列\"stressed\"の文字を逆に（末尾から先頭に向かって）並べた文字列を得よ．"
   ]
  },
  {
   "cell_type": "code",
   "execution_count": 30,
   "metadata": {},
   "outputs": [
    {
     "data": {
      "text/plain": [
       "'desserts'"
      ]
     },
     "execution_count": 30,
     "metadata": {},
     "output_type": "execute_result"
    }
   ],
   "source": [
    "\"stressed\"[::-1]"
   ]
  },
  {
   "cell_type": "markdown",
   "metadata": {},
   "source": [
    "## 01. 「パタトクカシーー」\n",
    "> 「パタトクカシーー」という文字列の1,3,5,7文字目を取り出して連結した文字列を得よ．"
   ]
  },
  {
   "cell_type": "code",
   "execution_count": 17,
   "metadata": {},
   "outputs": [
    {
     "data": {
      "text/plain": [
       "'パトカー'"
      ]
     },
     "execution_count": 17,
     "metadata": {},
     "output_type": "execute_result"
    }
   ],
   "source": [
    "\"パタトクカシーー\"[::2]"
   ]
  },
  {
   "cell_type": "markdown",
   "metadata": {},
   "source": [
    "## 03. 円周率\n",
    "> \"Now I need a drink, alcoholic of course, after the heavy lectures involving quantum mechanics.\"という文を単語に分解し，各単語の（アルファベットの）文字数を先頭から出現順に並べたリストを作成せよ．"
   ]
  },
  {
   "cell_type": "code",
   "execution_count": 18,
   "metadata": {},
   "outputs": [
    {
     "data": {
      "text/plain": [
       "[3, 1, 4, 1, 5, 9, 2, 6, 5, 3, 5, 8, 9, 7, 9]"
      ]
     },
     "execution_count": 18,
     "metadata": {},
     "output_type": "execute_result"
    }
   ],
   "source": [
    "import re\n",
    "text = \"Now I need a drink, alcoholic of course, after the heavy lectures involving quantum mechanics.\"\n",
    "[len(t) for t in re.sub(r'[,\\.]', '', text).split()]"
   ]
  },
  {
   "cell_type": "markdown",
   "metadata": {},
   "source": [
    "## 04. 元素記号\n",
    "> \"Hi He Lied Because Boron Could Not Oxidize Fluorine. New Nations Might Also Sign Peace Security Clause. Arthur King Can.\"という文を単語に分解し，1, 5, 6, 7, 8, 9, 15, 16, 19番目の単語は先頭の1文字，それ以外の単語は先頭に2文字を取り出し，取り出した文字列から単語の位置（先頭から何番目の単語か）への連想配列（辞書型もしくはマップ型）を作成せよ．"
   ]
  },
  {
   "cell_type": "code",
   "execution_count": 1,
   "metadata": {},
   "outputs": [
    {
     "data": {
      "text/plain": [
       "{'H': 0,\n",
       " 'He': 3,\n",
       " 'Li': 6,\n",
       " 'Be': 11,\n",
       " 'B': 19,\n",
       " 'C': 25,\n",
       " 'N': 31,\n",
       " 'O': 35,\n",
       " 'F': 43,\n",
       " 'Ne': 53,\n",
       " 'Na': 57,\n",
       " 'Mi': 65,\n",
       " 'Al': 71,\n",
       " 'Si': 76,\n",
       " 'P': 81,\n",
       " 'S': 87,\n",
       " 'Cl': 96,\n",
       " 'Ar': 104,\n",
       " 'K': 111,\n",
       " 'Ca': 116}"
      ]
     },
     "execution_count": 1,
     "metadata": {},
     "output_type": "execute_result"
    }
   ],
   "source": [
    "text = \"Hi He Lied Because Boron Could Not Oxidize Fluorine. New Nations Might Also Sign Peace Security Clause. Arthur King Can.\"\n",
    "{ s[0] if (i + 1 in [1, 5, 6, 7, 8, 9, 15, 16, 19]) else s[0:2] : text.find(s) for i,s in enumerate(text.split())}"
   ]
  },
  {
   "cell_type": "markdown",
   "metadata": {},
   "source": [
    "## 05. n-gram\n",
    "> 与えられたシーケンス（文字列やリストなど）からn-gramを作る関数を作成せよ．この関数を用い，\"I am an NLPer\"という文から単語bi-gram，文字bi-gramを得よ．"
   ]
  },
  {
   "cell_type": "code",
   "execution_count": 29,
   "metadata": {},
   "outputs": [
    {
     "name": "stdout",
     "output_type": "stream",
     "text": [
      "['I ', ' a', 'am', 'm ', ' a', 'an', 'n ', ' N', 'NL', 'LP', 'Pe', 'er']\n",
      "[['I', 'am'], ['am', 'an'], ['an', 'NLPer']]\n"
     ]
    }
   ],
   "source": [
    "def ngram(n, seq):\n",
    "    return [seq[i:i+n] for i in range(len(seq)) if i + n <= len(seq)]\n",
    "\n",
    "text = \"I am an NLPer\"\n",
    "print(ngram(2, text))\n",
    "print(ngram(2, text.split()))"
   ]
  },
  {
   "cell_type": "markdown",
   "metadata": {},
   "source": [
    "## 06. 集合\n",
    "> \"paraparaparadise\"と\"paragraph\"に含まれる文字bi-gramの集合を，それぞれ, XとYとして求め，XとYの和集合，積集合，差集合を求めよ．さらに，'se'というbi-gramがXおよびYに含まれるかどうかを調べよ．"
   ]
  },
  {
   "cell_type": "markdown",
   "metadata": {},
   "source": [
    "\n"
   ]
  },
  {
   "cell_type": "code",
   "execution_count": 5,
   "metadata": {},
   "outputs": [
    {
     "name": "stdout",
     "output_type": "stream",
     "text": [
      "{'ap', 'gr', 'ra', 'se', 'is', 'ad', 'di', 'ag', 'ph', 'pa', 'ar'}\n",
      "{'pa', 'ra', 'ap', 'ar'}\n",
      "{'is', 'ad', 'di', 'se'}\n",
      "True\n"
     ]
    }
   ],
   "source": [
    "def ngram(n, seq):\n",
    "    return [seq[i:i+n] for i in range(len(seq)) if i + n <= len(seq)]\n",
    "\n",
    "x_text = \"paraparaparadise\"\n",
    "y_text = \"paragraph\"\n",
    "\n",
    "x = ngram(2, x_text)\n",
    "y = ngram(2, y_text)\n",
    "\n",
    "x_set = set(x)\n",
    "y_set = set(y)\n",
    "\n",
    "print(x_set | y_set)\n",
    "print(x_set & y_set)\n",
    "print(x_set - y_set)\n",
    "print(\"se\" in (x_set | y_set))"
   ]
  },
  {
   "cell_type": "markdown",
   "metadata": {},
   "source": [
    "## 07. テンプレートによる文生成\n",
    "> 引数x, y, zを受け取り「x時のyはz」という文字列を返す関数を実装せよ．さらに，x=12, y=\"気温\", z=22.4として，実行結果を確認せよ．"
   ]
  },
  {
   "cell_type": "code",
   "execution_count": 10,
   "metadata": {},
   "outputs": [
    {
     "name": "stdout",
     "output_type": "stream",
     "text": [
      "12時の気温は22.4\n"
     ]
    }
   ],
   "source": [
    "def at_x_oclock_y_is_z(x, y, z):\n",
    "    return \"%s時の%sは%s\" % (x, y, z)\n",
    "\n",
    "print(at_x_oclock_y_is_z(12, \"気温\", 22.4))"
   ]
  },
  {
   "cell_type": "markdown",
   "metadata": {},
   "source": [
    "## 08. 暗号文\n",
    "> 与えられた文字列の各文字を，以下の仕様で変換する関数cipherを実装せよ．\n",
    "> \n",
    "> 英小文字ならば(219 - 文字コード)の文字に置換\n",
    "> その他の文字はそのまま出力\n",
    "> この関数を用い，英語のメッセージを暗号化・復号化せよ．"
   ]
  },
  {
   "cell_type": "code",
   "execution_count": 5,
   "metadata": {},
   "outputs": [
    {
     "name": "stdout",
     "output_type": "stream",
     "text": [
      "zyxwABCDcbaXYZ\n",
      "abcdABCDxyzXYZ\n"
     ]
    }
   ],
   "source": [
    "def enc(text):\n",
    "    t = list(text)\n",
    "    return ''.join([chr(219 - ord(t[i])) if (97 <= ord(t[i]) and (ord(t[i]) <= 122)) else t[i] for i in range(len(t))])\n",
    "\n",
    "print(enc(\"abcdABCDxyzXYZ\"))\n",
    "print(enc(enc(\"abcdABCDxyzXYZ\")))"
   ]
  },
  {
   "cell_type": "markdown",
   "metadata": {},
   "source": [
    "## 09. Typoglycemia\n",
    "> スペースで区切られた単語列に対して，各単語の先頭と末尾の文字は残し，それ以外の文字の順序をランダムに並び替えるプログラムを作成せよ．ただし，長さが４以下の単語は並び替えないこととする．適当な英語の文（例えば\"I couldn't believe that I could actually understand what I was reading : the phenomenal power of the human mind .\"）を与え，その実行結果を確認せよ．"
   ]
  },
  {
   "cell_type": "code",
   "execution_count": 46,
   "metadata": {},
   "outputs": [
    {
     "name": "stdout",
     "output_type": "stream",
     "text": [
      "I culd'not bevleie that I could acutally ursendnatd what I was raidneg : the pheaonmnel pweor of the huamn mind .\n"
     ]
    }
   ],
   "source": [
    "import random\n",
    "\n",
    "def typo(word):\n",
    "    if len(word) <= 4:\n",
    "        return word\n",
    "    else:\n",
    "        return word[0] + \"\".join(random.sample(word[1:-1], len(word) - 2)) + word[-1]\n",
    "\n",
    "def typoglycemia(t):\n",
    "    return \" \".join([typo(w) for w in t.split()])\n",
    "    \n",
    "\n",
    "text = \"I couldn't believe that I could actually understand what I was reading : the phenomenal power of the human mind .\"\n",
    "print(typoglycemia(text))"
   ]
  },
  {
   "cell_type": "markdown",
   "metadata": {},
   "source": [
    "# 第2章: UNIXコマンドの基礎\n",
    "hightemp.txtは，日本の最高気温の記録を「都道府県」「地点」「℃」「日」のタブ区切り形式で格納したファイルである．以下の処理を行うプログラムを作成し，hightemp.txtを入力ファイルとして実行せよ．さらに，同様の処理をUNIXコマンドでも実行し，プログラムの実行結果を確認せよ．\n",
    "\n",
    "## 10. 行数のカウント\n",
    "> 行数をカウントせよ．確認にはwcコマンドを用いよ"
   ]
  },
  {
   "cell_type": "code",
   "execution_count": 27,
   "metadata": {},
   "outputs": [
    {
     "name": "stdout",
     "output_type": "stream",
     "text": [
      "24\n"
     ]
    }
   ],
   "source": [
    "def wc(file):\n",
    "    line_count = 0\n",
    "    with open(file, encoding=\"utf-8_sig\") as f:\n",
    "        for line_count, _ in enumerate(f, 1):\n",
    "            pass\n",
    "    return line_count\n",
    "\n",
    "print(wc(\"hightemp.txt\"))"
   ]
  },
  {
   "cell_type": "code",
   "execution_count": 51,
   "metadata": {},
   "outputs": [
    {
     "name": "stdout",
     "output_type": "stream",
     "text": [
      "24\n"
     ]
    }
   ],
   "source": [
    "!cat  hightemp.txt | wc -l"
   ]
  },
  {
   "cell_type": "markdown",
   "metadata": {},
   "source": [
    "## 11. タブをスペースに置換\n",
    "> タブ1文字につきスペース1文字に置換せよ．確認にはsedコマンド，trコマンド，もしくはexpandコマンドを用いよ．"
   ]
  },
  {
   "cell_type": "code",
   "execution_count": 44,
   "metadata": {},
   "outputs": [],
   "source": [
    "def tab_to_space(file):\n",
    "    with open(file, encoding=\"utf-8_sig\") as f:\n",
    "        with open(\"%s.space\" % file,mode = \"w\", encoding=\"utf-8\", newline=\"\\n\") as w:\n",
    "            line = f.readline()\n",
    "            while line: \n",
    "                w.write(line.replace(\"\\t\", \" \"))\n",
    "                line = f.readline()\n",
    "\n",
    "tab_to_space(\"hightemp.txt\")\n",
    "    "
   ]
  },
  {
   "cell_type": "code",
   "execution_count": 45,
   "metadata": {},
   "outputs": [],
   "source": [
    "!sed -e \"s/\\t/ /g\" hightemp.txt > hightemp.txt.space.sed\n",
    "!diff hightemp.txt.space hightemp.txt.space.sed"
   ]
  },
  {
   "cell_type": "markdown",
   "metadata": {},
   "source": [
    "## 12. 1列目をcol1.txtに，2列目をcol2.txtに保存\n",
    "> 各行の1列目だけを抜き出したものをcol1.txtに，2列目だけを抜き出したものをcol2.txtとしてファイルに保存せよ．確認にはcutコマンドを用いよ．"
   ]
  },
  {
   "cell_type": "code",
   "execution_count": 47,
   "metadata": {},
   "outputs": [],
   "source": [
    "def col1_col2(file):\n",
    "    with open(file, encoding=\"utf-8_sig\") as f:\n",
    "        with open(\"col1.txt\",mode = \"w\", encoding=\"utf-8\", newline=\"\\n\") as c1:\n",
    "            with open(\"col2.txt\",mode = \"w\", encoding=\"utf-8\", newline=\"\\n\") as c2:\n",
    "                line = f.readline()\n",
    "                while line: \n",
    "                    l = line.split()\n",
    "                    c1.write(l[0] + \"\\n\")\n",
    "                    c2.write(l[1] + \"\\n\")\n",
    "                    line = f.readline()\n",
    "\n",
    "col1_col2(\"hightemp.txt\")"
   ]
  },
  {
   "cell_type": "code",
   "execution_count": 2,
   "metadata": {},
   "outputs": [],
   "source": [
    "!cut -b 1- col1.txt > col1.txt.cut\n",
    "!cut -b 1- col2.txt > col2.txt.cut"
   ]
  },
  {
   "cell_type": "markdown",
   "metadata": {},
   "source": [
    "## 13. col1.txtとcol2.txtをマージ\n",
    "> 12で作ったcol1.txtとcol2.txtを結合し，元のファイルの1列目と2列目をタブ区切りで並べたテキストファイルを作成せよ．確認にはpasteコマンドを用いよ．"
   ]
  },
  {
   "cell_type": "code",
   "execution_count": 4,
   "metadata": {},
   "outputs": [],
   "source": [
    "def merge(file1, file2, outfile):\n",
    "    with open(outfile,mode = \"w\", encoding=\"utf-8\", newline=\"\\n\") as o:\n",
    "        with open(file1, encoding=\"utf-8\") as f1:\n",
    "            with open(file2, encoding=\"utf-8\") as f2:\n",
    "                l1 = f1.readline()\n",
    "                l2 = f2.readline()\n",
    "                while l1: \n",
    "                    o.write(l1.strip() + \"\\t\" + l2.strip() + \"\\n\")\n",
    "                    l1 = f1.readline()\n",
    "                    l2 = f2.readline()\n",
    "                    \n",
    "merge(\"col1.txt\", \"col2.txt\", \"col1_col2.txt\")"
   ]
  },
  {
   "cell_type": "code",
   "execution_count": 6,
   "metadata": {},
   "outputs": [],
   "source": [
    "!paste col1.txt col2.txt > col1_col2.paste.txt\n",
    "!diff col1_col2.txt col1_col2.paste.txt"
   ]
  },
  {
   "cell_type": "markdown",
   "metadata": {},
   "source": [
    "## 14. 先頭からN行を出力\n",
    "> 自然数Nをコマンドライン引数などの手段で受け取り，入力のうち先頭のN行だけを表示せよ．確認にはheadコマンドを用いよ．"
   ]
  },
  {
   "cell_type": "code",
   "execution_count": 9,
   "metadata": {},
   "outputs": [
    {
     "name": "stdout",
     "output_type": "stream",
     "text": [
      "高知県\t江川崎\t41\t2013-08-12\n",
      "埼玉県\t熊谷\t40.9\t2007-08-16\n",
      "岐阜県\t多治見\t40.9\t2007-08-16\n",
      "山形県\t山形\t40.8\t1933-07-25\n",
      "山梨県\t甲府\t40.7\t2013-08-10\n"
     ]
    }
   ],
   "source": [
    "def head(file, n):\n",
    "    with open(file, encoding=\"utf-8\") as f:\n",
    "        for i in range(n):\n",
    "            print(f.readline().strip())\n",
    "\n",
    "head(\"hightemp.txt\", 5)"
   ]
  },
  {
   "cell_type": "code",
   "execution_count": 10,
   "metadata": {},
   "outputs": [
    {
     "name": "stdout",
     "output_type": "stream",
     "text": [
      "鬮倡衍逵�\t豎溷ｷ晏ｴ�\t41\t2013-08-12\n",
      "蝓ｼ邇臥恁\t辭願ｰｷ\t40.9\t2007-08-16\n",
      "蟯宣�懃恁\t螟壽ｲｻ隕�\t40.9\t2007-08-16\n",
      "螻ｱ蠖｢逵�\t螻ｱ蠖｢\t40.8\t1933-07-25\n",
      "螻ｱ譴ｨ逵�\t逕ｲ蠎�\t40.7\t2013-08-10\n"
     ]
    }
   ],
   "source": [
    "!head -5 hightemp.txt"
   ]
  },
  {
   "cell_type": "markdown",
   "metadata": {},
   "source": [
    "## 15. 末尾のN行を出力\n",
    "> 自然数Nをコマンドライン引数などの手段で受け取り，入力のうち末尾のN行だけを表示せよ．確認にはtailコマンドを用いよ．"
   ]
  },
  {
   "cell_type": "code",
   "execution_count": 19,
   "metadata": {},
   "outputs": [
    {
     "name": "stdout",
     "output_type": "stream",
     "text": [
      "高知県\t江川崎\t41\t2013-08-12\n",
      "埼玉県\t熊谷\t40.9\t2007-08-16\n",
      "岐阜県\t多治見\t40.9\t2007-08-16\n",
      "山形県\t山形\t40.8\t1933-07-25\n",
      "山梨県\t甲府\t40.7\t2013-08-10\n",
      "和歌山県\tかつらぎ\t40.6\t1994-08-08\n",
      "静岡県\t天竜\t40.6\t1994-08-04\n",
      "山梨県\t勝沼\t40.5\t2013-08-10\n",
      "埼玉県\t越谷\t40.4\t2007-08-16\n",
      "群馬県\t館林\t40.3\t2007-08-16\n",
      "群馬県\t上里見\t40.3\t1998-07-04\n",
      "愛知県\t愛西\t40.3\t1994-08-05\n",
      "千葉県\t牛久\t40.2\t2004-07-20\n",
      "静岡県\t佐久間\t40.2\t2001-07-24\n",
      "愛媛県\t宇和島\t40.2\t1927-07-22\n",
      "山形県\t酒田\t40.1\t1978-08-03\n",
      "岐阜県\t美濃\t40\t2007-08-16\n",
      "群馬県\t前橋\t40\t2001-07-24\n",
      "千葉県\t茂原\t39.9\t2013-08-11\n",
      "埼玉県\t鳩山\t39.9\t1997-07-05\n",
      "大阪府\t豊中\t39.9\t1994-08-08\n",
      "山梨県\t大月\t39.9\t1990-07-19\n",
      "山形県\t鶴岡\t39.9\t1978-08-03\n",
      "愛知県\t名古屋\t39.9\t1942-08-02\n"
     ]
    }
   ],
   "source": [
    "def tail(file, n):\n",
    "    lines = [None] * n\n",
    "    index = -1\n",
    "    with open(file, encoding=\"utf-8\") as f:\n",
    "        l = f.readline()\n",
    "        while l:\n",
    "            index = (index + 1) % n\n",
    "            lines[index] = l.strip()\n",
    "            l = f.readline()\n",
    "        for i in range(n):\n",
    "            index = (index + 1) % n\n",
    "            if (lines[index]):\n",
    "                print(lines[index])\n",
    "\n",
    "tail(\"hightemp.txt\", 5)"
   ]
  },
  {
   "cell_type": "code",
   "execution_count": 18,
   "metadata": {},
   "outputs": [
    {
     "name": "stdout",
     "output_type": "stream",
     "text": [
      "鬮倡衍逵�\t豎溷ｷ晏ｴ�\t41\t2013-08-12\n",
      "蝓ｼ邇臥恁\t辭願ｰｷ\t40.9\t2007-08-16\n",
      "蟯宣�懃恁\t螟壽ｲｻ隕�\t40.9\t2007-08-16\n",
      "螻ｱ蠖｢逵�\t螻ｱ蠖｢\t40.8\t1933-07-25\n",
      "螻ｱ譴ｨ逵�\t逕ｲ蠎�\t40.7\t2013-08-10\n",
      "蜥梧ｭ悟ｱｱ逵�\t縺九▽繧峨℃\t40.6\t1994-08-08\n",
      "髱吝ｲ｡逵�\t螟ｩ遶�\t40.6\t1994-08-04\n",
      "螻ｱ譴ｨ逵�\t蜍晄ｲｼ\t40.5\t2013-08-10\n",
      "蝓ｼ邇臥恁\t雜願ｰｷ\t40.4\t2007-08-16\n",
      "鄒､鬥ｬ逵�\t鬢ｨ譫�\t40.3\t2007-08-16\n",
      "鄒､鬥ｬ逵�\t荳企㈹隕�\t40.3\t1998-07-04\n",
      "諢帷衍逵�\t諢幄･ｿ\t40.3\t1994-08-05\n",
      "蜊�闡臥恁\t迚帑ｹ�\t40.2\t2004-07-20\n",
      "髱吝ｲ｡逵�\t菴蝉ｹ�髢�\t40.2\t2001-07-24\n",
      "諢帛ｪ帷恁\t螳�蜥悟ｳｶ\t40.2\t1927-07-22\n",
      "螻ｱ蠖｢逵�\t驟堤伐\t40.1\t1978-08-03\n",
      "蟯宣�懃恁\t鄒取ｿ�\t40\t2007-08-16\n",
      "鄒､鬥ｬ逵�\t蜑肴ｩ�\t40\t2001-07-24\n",
      "蜊�闡臥恁\t闌ょ次\t39.9\t2013-08-11\n",
      "蝓ｼ邇臥恁\t魑ｩ螻ｱ\t39.9\t1997-07-05\n",
      "螟ｧ髦ｪ蠎�\t雎贋ｸｭ\t39.9\t1994-08-08\n",
      "螻ｱ譴ｨ逵�\t螟ｧ譛�\t39.9\t1990-07-19\n",
      "螻ｱ蠖｢逵�\t鮓ｴ蟯｡\t39.9\t1978-08-03\n",
      "諢帷衍逵�\t蜷榊商螻�\t39.9\t1942-08-02\n"
     ]
    }
   ],
   "source": [
    "! tail -5 hightemp.txt"
   ]
  },
  {
   "cell_type": "code",
   "execution_count": null,
   "metadata": {},
   "outputs": [],
   "source": []
  }
 ],
 "metadata": {
  "kernelspec": {
   "display_name": "Python 3",
   "language": "python",
   "name": "python3"
  },
  "language_info": {
   "codemirror_mode": {
    "name": "ipython",
    "version": 3
   },
   "file_extension": ".py",
   "mimetype": "text/x-python",
   "name": "python",
   "nbconvert_exporter": "python",
   "pygments_lexer": "ipython3",
   "version": "3.7.0"
  }
 },
 "nbformat": 4,
 "nbformat_minor": 2
}
